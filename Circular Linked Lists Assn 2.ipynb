{
  "nbformat": 4,
  "nbformat_minor": 0,
  "metadata": {
    "colab": {
      "provenance": [],
      "authorship_tag": "ABX9TyN4LK08TjEdElzWWtxP2dst",
      "include_colab_link": true
    },
    "kernelspec": {
      "name": "python3",
      "display_name": "Python 3"
    },
    "language_info": {
      "name": "python"
    }
  },
  "cells": [
    {
      "cell_type": "markdown",
      "metadata": {
        "id": "view-in-github",
        "colab_type": "text"
      },
      "source": [
        "<a href=\"https://colab.research.google.com/github/gitsakshamhub/introductiontocomputing/blob/main/Circular%20Linked%20Lists%20Assn%202.ipynb\" target=\"_parent\"><img src=\"https://colab.research.google.com/assets/colab-badge.svg\" alt=\"Open In Colab\"/></a>"
      ]
    },
    {
      "cell_type": "code",
      "execution_count": 2,
      "metadata": {
        "colab": {
          "base_uri": "https://localhost:8080/"
        },
        "id": "Z_H_dtfn1iEr",
        "outputId": "370e5085-4138-48d7-c9ca-9e1b49d8a1fb"
      },
      "outputs": [
        {
          "output_type": "stream",
          "name": "stdout",
          "text": [
            "Contents of circular Linked List\n",
            "5 9 7 1 "
          ]
        }
      ],
      "source": [
        "#Ans 1\n",
        "#Lets take an example and create a basic circular linked list\n",
        "# circular linked list traversal\n",
        "\n",
        "# Structure for a Node\n",
        "class Node:\n",
        "\t\n",
        "\t# Constructor to create a new node\n",
        "\tdef __init__(self, data):\n",
        "\t\tself.data = data\n",
        "\t\tself.next = None\n",
        "\n",
        "class CircularLinkedList:\n",
        "\t\n",
        "\t# Constructor to create a empty circular linked list\n",
        "\tdef __init__(self):\n",
        "\t\tself.head = None\n",
        "\n",
        "\t# Function to insert a node at the beginning of a\n",
        "\t# circular linked list\n",
        "\tdef push(self, data):\n",
        "\t\tptr1 = Node(data)\n",
        "\t\ttemp = self.head\n",
        "\t\t\n",
        "\t\tptr1.next = self.head\n",
        "\n",
        "\t\t# If linked list is not None then set the next of\n",
        "\t\t# last node\n",
        "\t\tif self.head is not None:\n",
        "\t\t\twhile(temp.next != self.head):#This condition establishes that the traversing element(temp) has reached the first element\n",
        "\t\t\t\ttemp = temp.next\n",
        "\t\t\ttemp.next = ptr1\n",
        "\n",
        "\t\telse:\n",
        "\t\t\tptr1.next = ptr1 # For the first node\n",
        "\n",
        "\t\tself.head = ptr1\n",
        "\n",
        "\t# Function to print nodes in a given circular linked list\n",
        "\tdef printList(self):\n",
        "\t\ttemp = self.head\n",
        "\t\tif self.head is not None:\n",
        "\t\t\twhile(True):\n",
        "\t\t\t\tprint (temp.data, end=\" \")\n",
        "\t\t\t\ttemp = temp.next\n",
        "\t\t\t\tif (temp == self.head):\n",
        "\t\t\t\t\tbreak\n",
        "\n",
        "cllist = CircularLinkedList()\n",
        "\n",
        "\n",
        "cllist.push(1)\n",
        "cllist.push(7)\n",
        "cllist.push(9)\n",
        "cllist.push(5)   \n",
        "\n",
        "print (\"Contents of circular Linked List\")\n",
        "cllist.printList()"
      ]
    }
  ]
}